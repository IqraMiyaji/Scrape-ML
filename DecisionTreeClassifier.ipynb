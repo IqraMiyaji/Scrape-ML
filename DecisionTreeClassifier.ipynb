{
 "cells": [
  {
   "cell_type": "code",
   "execution_count": null,
   "metadata": {},
   "outputs": [],
   "source": [
    "import pandas as pd\n",
    "import numpy as np\n",
    "df=pd.read_csv('')"
   ]
  },
  {
   "cell_type": "code",
   "execution_count": null,
   "metadata": {},
   "outputs": [],
   "source": [
    "for col in df.columns:\n",
    "    unique_values = df[col].unique()\n",
    "    print(f\"Unique values for column '{col}': {unique_values}\")"
   ]
  },
  {
   "cell_type": "code",
   "execution_count": null,
   "metadata": {},
   "outputs": [],
   "source": [
    "import pandas as pd\n",
    "# Convert categorical features to numerical using LabelEncoder\n",
    "le = LabelEncoder()\n",
    "for col in df.select_dtypes(include='object'):\n",
    "    df[col] = le.fit_transform(df[col])"
   ]
  },
  {
   "cell_type": "code",
   "execution_count": null,
   "metadata": {},
   "outputs": [],
   "source": [
    "import matplotlib.pyplot as plt\n",
    "from sklearn.tree import DecisionTreeClassifier\n",
    "model = DecisionTreeClassifier(max_depth=3)\n",
    "plt.figure(figsize=(15,8))\n",
    "# Fit the model to the data\n",
    "model.fit(df.drop('', axis=1), df[''])\n",
    "tree.plot_tree(model, feature_names=df.drop('', axis=1).columns, class_names=['', ''], fontsize=7,filled=True)\n",
    "# Make predictions\n",
    "predictions = model.predict(df.drop('', axis=1))\n",
    "\n",
    "# Evaluate the model\n",
    "accuracy = accuracy_score(df[''], predictions)\n",
    "print(\"Accuracy:\", accuracy)"
   ]
  }
 ],
 "metadata": {
  "language_info": {
   "name": "python"
  }
 },
 "nbformat": 4,
 "nbformat_minor": 2
}
